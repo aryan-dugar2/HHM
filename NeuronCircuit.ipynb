{
 "cells": [
  {
   "cell_type": "code",
   "execution_count": 19,
   "metadata": {},
   "outputs": [],
   "source": [
    "from auxiliary import Auxiliary\n",
    "from neuron import Neuron\n",
    "\n",
    "class NeuronCircuit(Neuron):\n",
    "    \"\"\"This class includes additional utilities for the lab experiment I carried out to model the HH model using an electronics-based \n",
    "        circuit.\"\"\"\n",
    "\n",
    "    def resistance(self):\n",
    "        \"\"\"Calculates resistance values of sodium and potassium channels over time (resistance = 1/conductance)\"\"\"\n",
    "        Vy = self.simulate()\n",
    "        v = Vy[:,0]\n",
    "        n = Vy[:,1]\n",
    "        m = Vy[:,2]\n",
    "        h = Vy[:,3]\n",
    "        \n",
    "        rK = 1/(self.gK*10**(-3)*n**4)\n",
    "        rNa = 1/((self.gNa*10**(-3)*m**3*h))\n",
    "        \n",
    "        return rK,rNa,v\n",
    "    \n",
    "    def vals(self):\n",
    "        \"\"\"Prints out key specified values of sodium and potassium channel resistances, as well as corresponding voltage.\"\"\"\n",
    "        \n",
    "        rK,rNa,V = self.resistance()\n",
    "        \n",
    "        for i in range(30):\n",
    "            print (round(self.time[2000+i*100],1),'s','   rK:',round(rK[2000+i*100],2),'ohms','   rNa:',round(rNa[2000+i*100],2),'ohms', 'V',round(V[2000+i*100],2))\n"
   ]
  },
  {
   "cell_type": "code",
   "execution_count": 20,
   "metadata": {},
   "outputs": [
    {
     "name": "stdout",
     "output_type": "stream",
     "text": [
      "6.0 s    rK: 2601.7 ohms    rNa: 84121.0 ohms V 0.34\n",
      "6.3 s    rK: 2599.58 ohms    rNa: 84786.24 ohms V 0.31\n",
      "6.6 s    rK: 2598.17 ohms    rNa: 85462.96 ohms V 0.29\n",
      "6.9 s    rK: 2597.41 ohms    rNa: 86137.02 ohms V 0.27\n",
      "7.2 s    rK: 2597.25 ohms    rNa: 86795.48 ohms V 0.25\n",
      "7.5 s    rK: 2597.64 ohms    rNa: 87426.78 ohms V 0.23\n",
      "7.8 s    rK: 2598.51 ohms    rNa: 88020.95 ohms V 0.21\n",
      "8.1 s    rK: 2599.78 ohms    rNa: 88569.7 ohms V 0.2\n",
      "8.4 s    rK: 2601.4 ohms    rNa: 89066.5 ohms V 0.18\n",
      "8.7 s    rK: 2603.29 ohms    rNa: 89506.55 ohms V 0.17\n",
      "9.0 s    rK: 2605.4 ohms    rNa: 89886.79 ohms V 0.16\n",
      "9.3 s    rK: 2607.65 ohms    rNa: 90205.77 ohms V 0.15\n",
      "9.6 s    rK: 2609.99 ohms    rNa: 90463.53 ohms V 0.14\n",
      "9.9 s    rK: 2612.37 ohms    rNa: 90661.44 ohms V 0.14\n",
      "10.2 s    rK: 2587.7 ohms    rNa: 65781.0 ohms V 2.98\n",
      "10.5 s    rK: 2457.04 ohms    rNa: 24987.02 ohms V 6.88\n",
      "10.8 s    rK: 2228.74 ohms    rNa: 8556.2 ohms V 11.23\n",
      "11.1 s    rK: 1893.27 ohms    rNa: 2424.65 ohms V 18.64\n",
      "11.4 s    rK: 1317.1 ohms    rNa: 304.34 ohms V 45.98\n",
      "11.7 s    rK: 439.08 ohms    rNa: 32.37 ohms V 110.15\n",
      "12.0 s    rK: 185.62 ohms    rNa: 32.66 ohms V 100.81\n",
      "12.3 s    rK: 116.72 ohms    rNa: 43.33 ohms V 85.02\n",
      "12.6 s    rK: 90.8 ohms    rNa: 59.3 ohms V 68.54\n",
      "12.9 s    rK: 79.96 ohms    rNa: 83.37 ohms V 53.23\n",
      "13.2 s    rK: 76.33 ohms    rNa: 123.62 ohms V 39.08\n",
      "13.5 s    rK: 77.47 ohms    rNa: 213.84 ohms V 24.61\n",
      "13.8 s    rK: 83.58 ohms    rNa: 771.0 ohms V 5.23\n",
      "14.1 s    rK: 96.12 ohms    rNa: 46040.44 ohms V -10.68\n",
      "14.4 s    rK: 112.95 ohms    rNa: 5831094.56 ohms V -12.38\n",
      "14.7 s    rK: 132.6 ohms    rNa: 25031996.11 ohms V -12.11\n"
     ]
    }
   ],
   "source": [
    "c = NeuronCircuit()\n",
    "c.vals()"
   ]
  },
  {
   "cell_type": "code",
   "execution_count": null,
   "metadata": {},
   "outputs": [],
   "source": []
  }
 ],
 "metadata": {
  "kernelspec": {
   "display_name": "Python 3",
   "language": "python",
   "name": "python3"
  },
  "language_info": {
   "codemirror_mode": {
    "name": "ipython",
    "version": 3
   },
   "file_extension": ".py",
   "mimetype": "text/x-python",
   "name": "python",
   "nbconvert_exporter": "python",
   "pygments_lexer": "ipython3",
   "version": "3.8.5"
  }
 },
 "nbformat": 4,
 "nbformat_minor": 4
}
